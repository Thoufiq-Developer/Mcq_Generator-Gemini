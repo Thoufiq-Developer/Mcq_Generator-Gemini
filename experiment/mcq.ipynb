{
 "cells": [
  {
   "cell_type": "code",
   "execution_count": 1,
   "id": "df65bb40",
   "metadata": {},
   "outputs": [],
   "source": [
    "import os\n",
    "import pandas as pd\n",
    "import json\n",
    "import traceback"
   ]
  },
  {
   "cell_type": "code",
   "execution_count": 2,
   "id": "769f0f90",
   "metadata": {},
   "outputs": [
    {
     "name": "stdout",
     "output_type": "stream",
     "text": [
      "Requirement already satisfied: python-dotenv in c:\\users\\thouf\\mcqgeneratornew\\env\\lib\\site-packages (1.1.1)\n",
      "Note: you may need to restart the kernel to use updated packages.\n"
     ]
    }
   ],
   "source": [
    "pip install python-dotenv"
   ]
  },
  {
   "cell_type": "code",
   "execution_count": 3,
   "id": "18c62741",
   "metadata": {},
   "outputs": [
    {
     "data": {
      "text/plain": [
       "True"
      ]
     },
     "execution_count": 3,
     "metadata": {},
     "output_type": "execute_result"
    }
   ],
   "source": [
    "from dotenv import load_dotenv\n",
    "load_dotenv()"
   ]
  },
  {
   "cell_type": "code",
   "execution_count": 4,
   "id": "753cd62b",
   "metadata": {},
   "outputs": [],
   "source": [
    "key=os.getenv('google_api_key')"
   ]
  },
  {
   "cell_type": "code",
   "execution_count": 5,
   "id": "cd3c6b3a",
   "metadata": {},
   "outputs": [
    {
     "name": "stdout",
     "output_type": "stream",
     "text": [
      "Requirement already satisfied: langchain-google-genai in c:\\users\\thouf\\mcqgeneratornew\\env\\lib\\site-packages (2.1.8)\n",
      "Requirement already satisfied: filetype<2.0.0,>=1.2.0 in c:\\users\\thouf\\mcqgeneratornew\\env\\lib\\site-packages (from langchain-google-genai) (1.2.0)\n",
      "Requirement already satisfied: google-ai-generativelanguage<0.7.0,>=0.6.18 in c:\\users\\thouf\\mcqgeneratornew\\env\\lib\\site-packages (from langchain-google-genai) (0.6.18)\n",
      "Requirement already satisfied: langchain-core<0.4.0,>=0.3.68 in c:\\users\\thouf\\mcqgeneratornew\\env\\lib\\site-packages (from langchain-google-genai) (0.3.69)\n",
      "Requirement already satisfied: pydantic<3,>=2 in c:\\users\\thouf\\mcqgeneratornew\\env\\lib\\site-packages (from langchain-google-genai) (2.11.7)\n",
      "Requirement already satisfied: google-api-core!=2.0.*,!=2.1.*,!=2.10.*,!=2.2.*,!=2.3.*,!=2.4.*,!=2.5.*,!=2.6.*,!=2.7.*,!=2.8.*,!=2.9.*,<3.0.0,>=1.34.1 in c:\\users\\thouf\\mcqgeneratornew\\env\\lib\\site-packages (from google-api-core[grpc]!=2.0.*,!=2.1.*,!=2.10.*,!=2.2.*,!=2.3.*,!=2.4.*,!=2.5.*,!=2.6.*,!=2.7.*,!=2.8.*,!=2.9.*,<3.0.0,>=1.34.1->google-ai-generativelanguage<0.7.0,>=0.6.18->langchain-google-genai) (2.25.1)\n",
      "Requirement already satisfied: google-auth!=2.24.0,!=2.25.0,<3.0.0,>=2.14.1 in c:\\users\\thouf\\mcqgeneratornew\\env\\lib\\site-packages (from google-ai-generativelanguage<0.7.0,>=0.6.18->langchain-google-genai) (2.40.3)\n",
      "Requirement already satisfied: proto-plus<2.0.0,>=1.22.3 in c:\\users\\thouf\\mcqgeneratornew\\env\\lib\\site-packages (from google-ai-generativelanguage<0.7.0,>=0.6.18->langchain-google-genai) (1.26.1)\n",
      "Requirement already satisfied: protobuf!=4.21.0,!=4.21.1,!=4.21.2,!=4.21.3,!=4.21.4,!=4.21.5,<7.0.0,>=3.20.2 in c:\\users\\thouf\\mcqgeneratornew\\env\\lib\\site-packages (from google-ai-generativelanguage<0.7.0,>=0.6.18->langchain-google-genai) (6.31.1)\n",
      "Requirement already satisfied: googleapis-common-protos<2.0.0,>=1.56.2 in c:\\users\\thouf\\mcqgeneratornew\\env\\lib\\site-packages (from google-api-core!=2.0.*,!=2.1.*,!=2.10.*,!=2.2.*,!=2.3.*,!=2.4.*,!=2.5.*,!=2.6.*,!=2.7.*,!=2.8.*,!=2.9.*,<3.0.0,>=1.34.1->google-api-core[grpc]!=2.0.*,!=2.1.*,!=2.10.*,!=2.2.*,!=2.3.*,!=2.4.*,!=2.5.*,!=2.6.*,!=2.7.*,!=2.8.*,!=2.9.*,<3.0.0,>=1.34.1->google-ai-generativelanguage<0.7.0,>=0.6.18->langchain-google-genai) (1.70.0)\n",
      "Requirement already satisfied: requests<3.0.0,>=2.18.0 in c:\\users\\thouf\\mcqgeneratornew\\env\\lib\\site-packages (from google-api-core!=2.0.*,!=2.1.*,!=2.10.*,!=2.2.*,!=2.3.*,!=2.4.*,!=2.5.*,!=2.6.*,!=2.7.*,!=2.8.*,!=2.9.*,<3.0.0,>=1.34.1->google-api-core[grpc]!=2.0.*,!=2.1.*,!=2.10.*,!=2.2.*,!=2.3.*,!=2.4.*,!=2.5.*,!=2.6.*,!=2.7.*,!=2.8.*,!=2.9.*,<3.0.0,>=1.34.1->google-ai-generativelanguage<0.7.0,>=0.6.18->langchain-google-genai) (2.32.4)\n",
      "Requirement already satisfied: grpcio<2.0.0,>=1.33.2 in c:\\users\\thouf\\mcqgeneratornew\\env\\lib\\site-packages (from google-api-core[grpc]!=2.0.*,!=2.1.*,!=2.10.*,!=2.2.*,!=2.3.*,!=2.4.*,!=2.5.*,!=2.6.*,!=2.7.*,!=2.8.*,!=2.9.*,<3.0.0,>=1.34.1->google-ai-generativelanguage<0.7.0,>=0.6.18->langchain-google-genai) (1.73.1)\n",
      "Requirement already satisfied: grpcio-status<2.0.0,>=1.33.2 in c:\\users\\thouf\\mcqgeneratornew\\env\\lib\\site-packages (from google-api-core[grpc]!=2.0.*,!=2.1.*,!=2.10.*,!=2.2.*,!=2.3.*,!=2.4.*,!=2.5.*,!=2.6.*,!=2.7.*,!=2.8.*,!=2.9.*,<3.0.0,>=1.34.1->google-ai-generativelanguage<0.7.0,>=0.6.18->langchain-google-genai) (1.73.1)\n",
      "Requirement already satisfied: cachetools<6.0,>=2.0.0 in c:\\users\\thouf\\mcqgeneratornew\\env\\lib\\site-packages (from google-auth!=2.24.0,!=2.25.0,<3.0.0,>=2.14.1->google-ai-generativelanguage<0.7.0,>=0.6.18->langchain-google-genai) (5.5.2)\n",
      "Requirement already satisfied: pyasn1-modules>=0.2.1 in c:\\users\\thouf\\mcqgeneratornew\\env\\lib\\site-packages (from google-auth!=2.24.0,!=2.25.0,<3.0.0,>=2.14.1->google-ai-generativelanguage<0.7.0,>=0.6.18->langchain-google-genai) (0.4.2)\n",
      "Requirement already satisfied: rsa<5,>=3.1.4 in c:\\users\\thouf\\mcqgeneratornew\\env\\lib\\site-packages (from google-auth!=2.24.0,!=2.25.0,<3.0.0,>=2.14.1->google-ai-generativelanguage<0.7.0,>=0.6.18->langchain-google-genai) (4.9.1)\n",
      "Requirement already satisfied: langsmith>=0.3.45 in c:\\users\\thouf\\mcqgeneratornew\\env\\lib\\site-packages (from langchain-core<0.4.0,>=0.3.68->langchain-google-genai) (0.4.1)\n",
      "Requirement already satisfied: tenacity!=8.4.0,<10.0.0,>=8.1.0 in c:\\users\\thouf\\mcqgeneratornew\\env\\lib\\site-packages (from langchain-core<0.4.0,>=0.3.68->langchain-google-genai) (9.1.2)\n",
      "Requirement already satisfied: jsonpatch<2.0,>=1.33 in c:\\users\\thouf\\mcqgeneratornew\\env\\lib\\site-packages (from langchain-core<0.4.0,>=0.3.68->langchain-google-genai) (1.33)\n",
      "Requirement already satisfied: PyYAML>=5.3 in c:\\users\\thouf\\mcqgeneratornew\\env\\lib\\site-packages (from langchain-core<0.4.0,>=0.3.68->langchain-google-genai) (6.0.2)\n",
      "Requirement already satisfied: typing-extensions>=4.7 in c:\\users\\thouf\\mcqgeneratornew\\env\\lib\\site-packages (from langchain-core<0.4.0,>=0.3.68->langchain-google-genai) (4.14.0)\n",
      "Requirement already satisfied: packaging>=23.2 in c:\\users\\thouf\\mcqgeneratornew\\env\\lib\\site-packages (from langchain-core<0.4.0,>=0.3.68->langchain-google-genai) (24.2)\n",
      "Requirement already satisfied: jsonpointer>=1.9 in c:\\users\\thouf\\mcqgeneratornew\\env\\lib\\site-packages (from jsonpatch<2.0,>=1.33->langchain-core<0.4.0,>=0.3.68->langchain-google-genai) (3.0.0)\n",
      "Requirement already satisfied: annotated-types>=0.6.0 in c:\\users\\thouf\\mcqgeneratornew\\env\\lib\\site-packages (from pydantic<3,>=2->langchain-google-genai) (0.7.0)\n",
      "Requirement already satisfied: pydantic-core==2.33.2 in c:\\users\\thouf\\mcqgeneratornew\\env\\lib\\site-packages (from pydantic<3,>=2->langchain-google-genai) (2.33.2)\n",
      "Requirement already satisfied: typing-inspection>=0.4.0 in c:\\users\\thouf\\mcqgeneratornew\\env\\lib\\site-packages (from pydantic<3,>=2->langchain-google-genai) (0.4.1)\n",
      "Requirement already satisfied: charset_normalizer<4,>=2 in c:\\users\\thouf\\mcqgeneratornew\\env\\lib\\site-packages (from requests<3.0.0,>=2.18.0->google-api-core!=2.0.*,!=2.1.*,!=2.10.*,!=2.2.*,!=2.3.*,!=2.4.*,!=2.5.*,!=2.6.*,!=2.7.*,!=2.8.*,!=2.9.*,<3.0.0,>=1.34.1->google-api-core[grpc]!=2.0.*,!=2.1.*,!=2.10.*,!=2.2.*,!=2.3.*,!=2.4.*,!=2.5.*,!=2.6.*,!=2.7.*,!=2.8.*,!=2.9.*,<3.0.0,>=1.34.1->google-ai-generativelanguage<0.7.0,>=0.6.18->langchain-google-genai) (3.4.2)\n",
      "Requirement already satisfied: idna<4,>=2.5 in c:\\users\\thouf\\mcqgeneratornew\\env\\lib\\site-packages (from requests<3.0.0,>=2.18.0->google-api-core!=2.0.*,!=2.1.*,!=2.10.*,!=2.2.*,!=2.3.*,!=2.4.*,!=2.5.*,!=2.6.*,!=2.7.*,!=2.8.*,!=2.9.*,<3.0.0,>=1.34.1->google-api-core[grpc]!=2.0.*,!=2.1.*,!=2.10.*,!=2.2.*,!=2.3.*,!=2.4.*,!=2.5.*,!=2.6.*,!=2.7.*,!=2.8.*,!=2.9.*,<3.0.0,>=1.34.1->google-ai-generativelanguage<0.7.0,>=0.6.18->langchain-google-genai) (3.10)\n",
      "Requirement already satisfied: urllib3<3,>=1.21.1 in c:\\users\\thouf\\mcqgeneratornew\\env\\lib\\site-packages (from requests<3.0.0,>=2.18.0->google-api-core!=2.0.*,!=2.1.*,!=2.10.*,!=2.2.*,!=2.3.*,!=2.4.*,!=2.5.*,!=2.6.*,!=2.7.*,!=2.8.*,!=2.9.*,<3.0.0,>=1.34.1->google-api-core[grpc]!=2.0.*,!=2.1.*,!=2.10.*,!=2.2.*,!=2.3.*,!=2.4.*,!=2.5.*,!=2.6.*,!=2.7.*,!=2.8.*,!=2.9.*,<3.0.0,>=1.34.1->google-ai-generativelanguage<0.7.0,>=0.6.18->langchain-google-genai) (2.5.0)\n",
      "Requirement already satisfied: certifi>=2017.4.17 in c:\\users\\thouf\\mcqgeneratornew\\env\\lib\\site-packages (from requests<3.0.0,>=2.18.0->google-api-core!=2.0.*,!=2.1.*,!=2.10.*,!=2.2.*,!=2.3.*,!=2.4.*,!=2.5.*,!=2.6.*,!=2.7.*,!=2.8.*,!=2.9.*,<3.0.0,>=1.34.1->google-api-core[grpc]!=2.0.*,!=2.1.*,!=2.10.*,!=2.2.*,!=2.3.*,!=2.4.*,!=2.5.*,!=2.6.*,!=2.7.*,!=2.8.*,!=2.9.*,<3.0.0,>=1.34.1->google-ai-generativelanguage<0.7.0,>=0.6.18->langchain-google-genai) (2025.6.15)\n",
      "Requirement already satisfied: pyasn1>=0.1.3 in c:\\users\\thouf\\mcqgeneratornew\\env\\lib\\site-packages (from rsa<5,>=3.1.4->google-auth!=2.24.0,!=2.25.0,<3.0.0,>=2.14.1->google-ai-generativelanguage<0.7.0,>=0.6.18->langchain-google-genai) (0.6.1)\n",
      "Requirement already satisfied: httpx<1,>=0.23.0 in c:\\users\\thouf\\mcqgeneratornew\\env\\lib\\site-packages (from langsmith>=0.3.45->langchain-core<0.4.0,>=0.3.68->langchain-google-genai) (0.28.1)\n",
      "Requirement already satisfied: orjson<4.0.0,>=3.9.14 in c:\\users\\thouf\\mcqgeneratornew\\env\\lib\\site-packages (from langsmith>=0.3.45->langchain-core<0.4.0,>=0.3.68->langchain-google-genai) (3.10.18)\n",
      "Requirement already satisfied: requests-toolbelt<2.0.0,>=1.0.0 in c:\\users\\thouf\\mcqgeneratornew\\env\\lib\\site-packages (from langsmith>=0.3.45->langchain-core<0.4.0,>=0.3.68->langchain-google-genai) (1.0.0)\n",
      "Requirement already satisfied: zstandard<0.24.0,>=0.23.0 in c:\\users\\thouf\\mcqgeneratornew\\env\\lib\\site-packages (from langsmith>=0.3.45->langchain-core<0.4.0,>=0.3.68->langchain-google-genai) (0.23.0)\n",
      "Requirement already satisfied: anyio in c:\\users\\thouf\\mcqgeneratornew\\env\\lib\\site-packages (from httpx<1,>=0.23.0->langsmith>=0.3.45->langchain-core<0.4.0,>=0.3.68->langchain-google-genai) (4.9.0)\n",
      "Requirement already satisfied: httpcore==1.* in c:\\users\\thouf\\mcqgeneratornew\\env\\lib\\site-packages (from httpx<1,>=0.23.0->langsmith>=0.3.45->langchain-core<0.4.0,>=0.3.68->langchain-google-genai) (1.0.9)\n",
      "Requirement already satisfied: h11>=0.16 in c:\\users\\thouf\\mcqgeneratornew\\env\\lib\\site-packages (from httpcore==1.*->httpx<1,>=0.23.0->langsmith>=0.3.45->langchain-core<0.4.0,>=0.3.68->langchain-google-genai) (0.16.0)\n",
      "Requirement already satisfied: exceptiongroup>=1.0.2 in c:\\users\\thouf\\mcqgeneratornew\\env\\lib\\site-packages (from anyio->httpx<1,>=0.23.0->langsmith>=0.3.45->langchain-core<0.4.0,>=0.3.68->langchain-google-genai) (1.3.0)\n",
      "Requirement already satisfied: sniffio>=1.1 in c:\\users\\thouf\\mcqgeneratornew\\env\\lib\\site-packages (from anyio->httpx<1,>=0.23.0->langsmith>=0.3.45->langchain-core<0.4.0,>=0.3.68->langchain-google-genai) (1.3.1)\n",
      "Note: you may need to restart the kernel to use updated packages.\n"
     ]
    }
   ],
   "source": [
    "pip install langchain-google-genai\n"
   ]
  },
  {
   "cell_type": "code",
   "execution_count": 6,
   "id": "294ae511",
   "metadata": {},
   "outputs": [],
   "source": [
    "from langchain_google_genai import ChatGoogleGenerativeAI"
   ]
  },
  {
   "cell_type": "code",
   "execution_count": 7,
   "id": "19a95126",
   "metadata": {},
   "outputs": [],
   "source": [
    "llm=ChatGoogleGenerativeAI(model=\"gemini-1.5-flash\",temperature=0.1,google_api_key=key)"
   ]
  },
  {
   "cell_type": "code",
   "execution_count": 8,
   "id": "23f99ca5",
   "metadata": {},
   "outputs": [
    {
     "data": {
      "text/plain": [
       "'There\\'s no single \"best\" MCQ (multiple choice question) movie between Avengers and Spider-Man.  It depends entirely on what the questions are about.\\n\\n* **If the questions focus on overall cinematic scope and impact:** Avengers (specifically *Avengers: Endgame*) might be a better choice, as it\\'s a culmination of a larger cinematic universe.\\n\\n* **If the questions focus on character development and relatable themes:** Spider-Man might be a better choice, as his stories often delve into more personal struggles and relatable teenage experiences.\\n\\n* **If the questions focus on action sequences and special effects:**  Both franchises excel, so it depends on individual preferences and which specific films are included in the MCQ.\\n\\nTo make a good MCQ, you need to define the criteria for \"best\" and tailor the questions accordingly.'"
      ]
     },
     "execution_count": 8,
     "metadata": {},
     "output_type": "execute_result"
    }
   ],
   "source": [
    "llm.invoke(\"what is the best mcq movie avengers or spiderman\").content.strip()\n"
   ]
  },
  {
   "cell_type": "code",
   "execution_count": 9,
   "id": "081f1511",
   "metadata": {},
   "outputs": [
    {
     "data": {
      "text/plain": [
       "ChatGoogleGenerativeAI(model='models/gemini-1.5-flash', google_api_key=SecretStr('**********'), temperature=0.1, client=<google.ai.generativelanguage_v1beta.services.generative_service.client.GenerativeServiceClient object at 0x0000019E12ECF850>, default_metadata=(), model_kwargs={})"
      ]
     },
     "execution_count": 9,
     "metadata": {},
     "output_type": "execute_result"
    }
   ],
   "source": [
    "llm"
   ]
  },
  {
   "cell_type": "code",
   "execution_count": 10,
   "id": "2647a54e",
   "metadata": {},
   "outputs": [
    {
     "name": "stdout",
     "output_type": "stream",
     "text": [
      "Requirement already satisfied: langchain in c:\\users\\thouf\\mcqgeneratornew\\env\\lib\\site-packages (0.3.26)\n",
      "Requirement already satisfied: langchain-core in c:\\users\\thouf\\mcqgeneratornew\\env\\lib\\site-packages (0.3.69)\n",
      "Requirement already satisfied: langchain-google-genai in c:\\users\\thouf\\mcqgeneratornew\\env\\lib\\site-packages (2.1.8)\n",
      "Requirement already satisfied: langchain-text-splitters<1.0.0,>=0.3.8 in c:\\users\\thouf\\mcqgeneratornew\\env\\lib\\site-packages (from langchain) (0.3.8)\n",
      "Requirement already satisfied: langsmith>=0.1.17 in c:\\users\\thouf\\mcqgeneratornew\\env\\lib\\site-packages (from langchain) (0.4.1)\n",
      "Requirement already satisfied: pydantic<3.0.0,>=2.7.4 in c:\\users\\thouf\\mcqgeneratornew\\env\\lib\\site-packages (from langchain) (2.11.7)\n",
      "Requirement already satisfied: SQLAlchemy<3,>=1.4 in c:\\users\\thouf\\mcqgeneratornew\\env\\lib\\site-packages (from langchain) (2.0.41)\n",
      "Requirement already satisfied: requests<3,>=2 in c:\\users\\thouf\\mcqgeneratornew\\env\\lib\\site-packages (from langchain) (2.32.4)\n",
      "Requirement already satisfied: PyYAML>=5.3 in c:\\users\\thouf\\mcqgeneratornew\\env\\lib\\site-packages (from langchain) (6.0.2)\n",
      "Requirement already satisfied: async-timeout<5.0.0,>=4.0.0 in c:\\users\\thouf\\mcqgeneratornew\\env\\lib\\site-packages (from langchain) (4.0.3)\n",
      "Requirement already satisfied: tenacity!=8.4.0,<10.0.0,>=8.1.0 in c:\\users\\thouf\\mcqgeneratornew\\env\\lib\\site-packages (from langchain-core) (9.1.2)\n",
      "Requirement already satisfied: jsonpatch<2.0,>=1.33 in c:\\users\\thouf\\mcqgeneratornew\\env\\lib\\site-packages (from langchain-core) (1.33)\n",
      "Requirement already satisfied: typing-extensions>=4.7 in c:\\users\\thouf\\mcqgeneratornew\\env\\lib\\site-packages (from langchain-core) (4.14.0)\n",
      "Requirement already satisfied: packaging>=23.2 in c:\\users\\thouf\\mcqgeneratornew\\env\\lib\\site-packages (from langchain-core) (24.2)\n",
      "Requirement already satisfied: jsonpointer>=1.9 in c:\\users\\thouf\\mcqgeneratornew\\env\\lib\\site-packages (from jsonpatch<2.0,>=1.33->langchain-core) (3.0.0)\n",
      "Requirement already satisfied: annotated-types>=0.6.0 in c:\\users\\thouf\\mcqgeneratornew\\env\\lib\\site-packages (from pydantic<3.0.0,>=2.7.4->langchain) (0.7.0)\n",
      "Requirement already satisfied: pydantic-core==2.33.2 in c:\\users\\thouf\\mcqgeneratornew\\env\\lib\\site-packages (from pydantic<3.0.0,>=2.7.4->langchain) (2.33.2)\n",
      "Requirement already satisfied: typing-inspection>=0.4.0 in c:\\users\\thouf\\mcqgeneratornew\\env\\lib\\site-packages (from pydantic<3.0.0,>=2.7.4->langchain) (0.4.1)\n",
      "Requirement already satisfied: charset_normalizer<4,>=2 in c:\\users\\thouf\\mcqgeneratornew\\env\\lib\\site-packages (from requests<3,>=2->langchain) (3.4.2)\n",
      "Requirement already satisfied: idna<4,>=2.5 in c:\\users\\thouf\\mcqgeneratornew\\env\\lib\\site-packages (from requests<3,>=2->langchain) (3.10)\n",
      "Requirement already satisfied: urllib3<3,>=1.21.1 in c:\\users\\thouf\\mcqgeneratornew\\env\\lib\\site-packages (from requests<3,>=2->langchain) (2.5.0)\n",
      "Requirement already satisfied: certifi>=2017.4.17 in c:\\users\\thouf\\mcqgeneratornew\\env\\lib\\site-packages (from requests<3,>=2->langchain) (2025.6.15)\n",
      "Requirement already satisfied: greenlet>=1 in c:\\users\\thouf\\mcqgeneratornew\\env\\lib\\site-packages (from SQLAlchemy<3,>=1.4->langchain) (3.2.3)\n",
      "Requirement already satisfied: filetype<2.0.0,>=1.2.0 in c:\\users\\thouf\\mcqgeneratornew\\env\\lib\\site-packages (from langchain-google-genai) (1.2.0)\n",
      "Requirement already satisfied: google-ai-generativelanguage<0.7.0,>=0.6.18 in c:\\users\\thouf\\mcqgeneratornew\\env\\lib\\site-packages (from langchain-google-genai) (0.6.18)\n",
      "Requirement already satisfied: google-api-core!=2.0.*,!=2.1.*,!=2.10.*,!=2.2.*,!=2.3.*,!=2.4.*,!=2.5.*,!=2.6.*,!=2.7.*,!=2.8.*,!=2.9.*,<3.0.0,>=1.34.1 in c:\\users\\thouf\\mcqgeneratornew\\env\\lib\\site-packages (from google-api-core[grpc]!=2.0.*,!=2.1.*,!=2.10.*,!=2.2.*,!=2.3.*,!=2.4.*,!=2.5.*,!=2.6.*,!=2.7.*,!=2.8.*,!=2.9.*,<3.0.0,>=1.34.1->google-ai-generativelanguage<0.7.0,>=0.6.18->langchain-google-genai) (2.25.1)\n",
      "Requirement already satisfied: google-auth!=2.24.0,!=2.25.0,<3.0.0,>=2.14.1 in c:\\users\\thouf\\mcqgeneratornew\\env\\lib\\site-packages (from google-ai-generativelanguage<0.7.0,>=0.6.18->langchain-google-genai) (2.40.3)\n",
      "Requirement already satisfied: proto-plus<2.0.0,>=1.22.3 in c:\\users\\thouf\\mcqgeneratornew\\env\\lib\\site-packages (from google-ai-generativelanguage<0.7.0,>=0.6.18->langchain-google-genai) (1.26.1)\n",
      "Requirement already satisfied: protobuf!=4.21.0,!=4.21.1,!=4.21.2,!=4.21.3,!=4.21.4,!=4.21.5,<7.0.0,>=3.20.2 in c:\\users\\thouf\\mcqgeneratornew\\env\\lib\\site-packages (from google-ai-generativelanguage<0.7.0,>=0.6.18->langchain-google-genai) (6.31.1)\n",
      "Requirement already satisfied: googleapis-common-protos<2.0.0,>=1.56.2 in c:\\users\\thouf\\mcqgeneratornew\\env\\lib\\site-packages (from google-api-core!=2.0.*,!=2.1.*,!=2.10.*,!=2.2.*,!=2.3.*,!=2.4.*,!=2.5.*,!=2.6.*,!=2.7.*,!=2.8.*,!=2.9.*,<3.0.0,>=1.34.1->google-api-core[grpc]!=2.0.*,!=2.1.*,!=2.10.*,!=2.2.*,!=2.3.*,!=2.4.*,!=2.5.*,!=2.6.*,!=2.7.*,!=2.8.*,!=2.9.*,<3.0.0,>=1.34.1->google-ai-generativelanguage<0.7.0,>=0.6.18->langchain-google-genai) (1.70.0)\n",
      "Requirement already satisfied: grpcio<2.0.0,>=1.33.2 in c:\\users\\thouf\\mcqgeneratornew\\env\\lib\\site-packages (from google-api-core[grpc]!=2.0.*,!=2.1.*,!=2.10.*,!=2.2.*,!=2.3.*,!=2.4.*,!=2.5.*,!=2.6.*,!=2.7.*,!=2.8.*,!=2.9.*,<3.0.0,>=1.34.1->google-ai-generativelanguage<0.7.0,>=0.6.18->langchain-google-genai) (1.73.1)\n",
      "Requirement already satisfied: grpcio-status<2.0.0,>=1.33.2 in c:\\users\\thouf\\mcqgeneratornew\\env\\lib\\site-packages (from google-api-core[grpc]!=2.0.*,!=2.1.*,!=2.10.*,!=2.2.*,!=2.3.*,!=2.4.*,!=2.5.*,!=2.6.*,!=2.7.*,!=2.8.*,!=2.9.*,<3.0.0,>=1.34.1->google-ai-generativelanguage<0.7.0,>=0.6.18->langchain-google-genai) (1.73.1)\n",
      "Requirement already satisfied: cachetools<6.0,>=2.0.0 in c:\\users\\thouf\\mcqgeneratornew\\env\\lib\\site-packages (from google-auth!=2.24.0,!=2.25.0,<3.0.0,>=2.14.1->google-ai-generativelanguage<0.7.0,>=0.6.18->langchain-google-genai) (5.5.2)\n",
      "Requirement already satisfied: pyasn1-modules>=0.2.1 in c:\\users\\thouf\\mcqgeneratornew\\env\\lib\\site-packages (from google-auth!=2.24.0,!=2.25.0,<3.0.0,>=2.14.1->google-ai-generativelanguage<0.7.0,>=0.6.18->langchain-google-genai) (0.4.2)\n",
      "Requirement already satisfied: rsa<5,>=3.1.4 in c:\\users\\thouf\\mcqgeneratornew\\env\\lib\\site-packages (from google-auth!=2.24.0,!=2.25.0,<3.0.0,>=2.14.1->google-ai-generativelanguage<0.7.0,>=0.6.18->langchain-google-genai) (4.9.1)\n",
      "Requirement already satisfied: pyasn1>=0.1.3 in c:\\users\\thouf\\mcqgeneratornew\\env\\lib\\site-packages (from rsa<5,>=3.1.4->google-auth!=2.24.0,!=2.25.0,<3.0.0,>=2.14.1->google-ai-generativelanguage<0.7.0,>=0.6.18->langchain-google-genai) (0.6.1)\n",
      "Requirement already satisfied: httpx<1,>=0.23.0 in c:\\users\\thouf\\mcqgeneratornew\\env\\lib\\site-packages (from langsmith>=0.1.17->langchain) (0.28.1)\n",
      "Requirement already satisfied: orjson<4.0.0,>=3.9.14 in c:\\users\\thouf\\mcqgeneratornew\\env\\lib\\site-packages (from langsmith>=0.1.17->langchain) (3.10.18)\n",
      "Requirement already satisfied: requests-toolbelt<2.0.0,>=1.0.0 in c:\\users\\thouf\\mcqgeneratornew\\env\\lib\\site-packages (from langsmith>=0.1.17->langchain) (1.0.0)\n",
      "Requirement already satisfied: zstandard<0.24.0,>=0.23.0 in c:\\users\\thouf\\mcqgeneratornew\\env\\lib\\site-packages (from langsmith>=0.1.17->langchain) (0.23.0)\n",
      "Requirement already satisfied: anyio in c:\\users\\thouf\\mcqgeneratornew\\env\\lib\\site-packages (from httpx<1,>=0.23.0->langsmith>=0.1.17->langchain) (4.9.0)\n",
      "Requirement already satisfied: httpcore==1.* in c:\\users\\thouf\\mcqgeneratornew\\env\\lib\\site-packages (from httpx<1,>=0.23.0->langsmith>=0.1.17->langchain) (1.0.9)\n",
      "Requirement already satisfied: h11>=0.16 in c:\\users\\thouf\\mcqgeneratornew\\env\\lib\\site-packages (from httpcore==1.*->httpx<1,>=0.23.0->langsmith>=0.1.17->langchain) (0.16.0)\n",
      "Requirement already satisfied: exceptiongroup>=1.0.2 in c:\\users\\thouf\\mcqgeneratornew\\env\\lib\\site-packages (from anyio->httpx<1,>=0.23.0->langsmith>=0.1.17->langchain) (1.3.0)\n",
      "Requirement already satisfied: sniffio>=1.1 in c:\\users\\thouf\\mcqgeneratornew\\env\\lib\\site-packages (from anyio->httpx<1,>=0.23.0->langsmith>=0.1.17->langchain) (1.3.1)\n",
      "Note: you may need to restart the kernel to use updated packages.\n"
     ]
    }
   ],
   "source": [
    "pip install --upgrade langchain langchain-core langchain-google-genai\n"
   ]
  },
  {
   "cell_type": "code",
   "execution_count": 11,
   "id": "ed23dd1e",
   "metadata": {},
   "outputs": [
    {
     "name": "stdout",
     "output_type": "stream",
     "text": [
      "Requirement already satisfied: PyPDF2 in c:\\users\\thouf\\mcqgeneratornew\\env\\lib\\site-packages (3.0.1)\n",
      "Note: you may need to restart the kernel to use updated packages.\n"
     ]
    }
   ],
   "source": [
    "pip install PyPDF2"
   ]
  },
  {
   "cell_type": "code",
   "execution_count": 12,
   "id": "928b61b7",
   "metadata": {},
   "outputs": [],
   "source": [
    "from langchain.chains import LLMChain\n",
    "from langchain.prompts import PromptTemplate\n",
    "from langchain.chains import SequentialChain\n",
    "import PyPDF2"
   ]
  },
  {
   "cell_type": "code",
   "execution_count": 13,
   "id": "55fea6a0",
   "metadata": {},
   "outputs": [],
   "source": [
    "TEMPLATE='''\n",
    "TEXT:{text}\n",
    "you are an expert MCQ maker . Given the above text , it is your job to \\\n",
    "create a quiz of {number} multiple choice questions for {subject} students in{tone} tone.\n",
    "make sure that no question is repeated and check all the questions to be conforming the text as well\n",
    "make sure to format your response like RESPONSE_JSON below and use it like a guide. \\\n",
    "Ensure that to make {number} MCQs\n",
    "### RESPONSE_JSON\n",
    "{response_json}\n",
    "\n",
    "'''\n"
   ]
  },
  {
   "cell_type": "code",
   "execution_count": 14,
   "id": "87ca9eab",
   "metadata": {},
   "outputs": [],
   "source": [
    "prompt_template=PromptTemplate(\n",
    "    input_variables=[\"text\",\"number\",\"subject\",\"tone\",\"response_json\"],\n",
    "    template=TEMPLATE\n",
    ")"
   ]
  },
  {
   "cell_type": "code",
   "execution_count": 15,
   "id": "4a425b4a",
   "metadata": {},
   "outputs": [],
   "source": [
    "RESPONSE_JSON={\n",
    "    \"1\":{\n",
    "        \"mcq\":\"multiple choice question\",\n",
    "        \"options\":{\n",
    "            \"a\":\"choice here\",\n",
    "            \"b\":\"choice here\",\n",
    "            \"c\":\"choice here\",\n",
    "            \"d\":\"choice here\",\n",
    "        },\n",
    "        \"correct\":\"correct answer\",\n",
    "    },\n",
    "    \"2\":{\n",
    "        \"mcq\":\"multiple choice question\",\n",
    "        \"options\":{\n",
    "            \"a\":\"choice here\",\n",
    "            \"b\":\"choice here\",\n",
    "            \"c\":\"choice here\",\n",
    "            \"d\":\"choice here\",\n",
    "        },\n",
    "        \"correct\":\"correct answer\",\n",
    "    },\n",
    "    \"3\":{\n",
    "        \"mcq\":\"multiple choice question\",\n",
    "        \"options\":{\n",
    "            \"a\":\"choice here\",\n",
    "            \"b\":\"choice here\",\n",
    "            \"c\":\"choice here\",\n",
    "            \"d\":\"choice here\",\n",
    "        },\n",
    "        \"correct\":\"correct answer\",\n",
    "    }\n",
    "    \n",
    "     \n",
    "}"
   ]
  },
  {
   "cell_type": "code",
   "execution_count": 16,
   "id": "8980d458",
   "metadata": {},
   "outputs": [
    {
     "name": "stderr",
     "output_type": "stream",
     "text": [
      "C:\\Users\\thouf\\AppData\\Local\\Temp\\ipykernel_43860\\3679699836.py:1: LangChainDeprecationWarning: The class `LLMChain` was deprecated in LangChain 0.1.17 and will be removed in 1.0. Use :meth:`~RunnableSequence, e.g., `prompt | llm`` instead.\n",
      "  chain=LLMChain(llm=llm,prompt=prompt_template,output_key=\"quiz\",verbose=False)\n"
     ]
    }
   ],
   "source": [
    "chain=LLMChain(llm=llm,prompt=prompt_template,output_key=\"quiz\",verbose=False)"
   ]
  },
  {
   "cell_type": "code",
   "execution_count": 17,
   "id": "796bb5bf",
   "metadata": {},
   "outputs": [],
   "source": [
    "TEMPLATE2='''\n",
    "you are an expert in english grammar and writer . Given a multiple choice quiz for {subject} students.\\\n",
    "you need to evaluate the complexity of the quiz and goive a complete analysis of the quiz . Only use at max 50 wordsfor complexity\n",
    "if the quiz is not as per the cognitive and analytical abilities of the students,\\\n",
    "update the quiz questions which needs to be changed and change the tone such that it perfectly fits the studentsabilities\n",
    "Quiz_MCQs:\n",
    "{quiz}\n",
    "\n",
    "check from an expert English Writer of the above quiz:\n",
    "'''\n"
   ]
  },
  {
   "cell_type": "code",
   "execution_count": 18,
   "id": "683c73a8",
   "metadata": {},
   "outputs": [],
   "source": [
    "quiz_evaluation_template=PromptTemplate(input_variables=[\"subject\",\"quiz\"],template=TEMPLATE2)"
   ]
  },
  {
   "cell_type": "code",
   "execution_count": 19,
   "id": "8a948bd8",
   "metadata": {},
   "outputs": [],
   "source": [
    "quiz_evaluation_chain=LLMChain(llm=llm,prompt=quiz_evaluation_template,output_key=\"review\",verbose=False)"
   ]
  },
  {
   "cell_type": "code",
   "execution_count": 20,
   "id": "dcdc2942",
   "metadata": {},
   "outputs": [],
   "source": [
    "connection_chain=SequentialChain(chains=[chain,quiz_evaluation_chain],input_variables=[\"text\",\"number\",\"subject\",\"tone\",\"response_json\"],output_variables=[\"quiz\",\"review\"],verbose=False)"
   ]
  },
  {
   "cell_type": "code",
   "execution_count": 21,
   "id": "783c0c5d",
   "metadata": {},
   "outputs": [],
   "source": [
    "file_path=r\"C:\\Users\\thouf\\mcqgeneratornew\\data.txt\""
   ]
  },
  {
   "cell_type": "code",
   "execution_count": 22,
   "id": "0863395f",
   "metadata": {},
   "outputs": [],
   "source": [
    "with open(file_path,'r') as file:\n",
    "    TEXT=file.read()"
   ]
  },
  {
   "cell_type": "code",
   "execution_count": 23,
   "id": "34e032e4",
   "metadata": {},
   "outputs": [
    {
     "data": {
      "text/plain": [
       "'In machine learning, deep learning focuses on utilizing multilayered neural networks to perform tasks such as classification, regression, and representation learning. The field takes inspiration from biological neuroscience and is centered around stacking artificial neurons into layers and \"training\" them to process data. The adjective \"deep\" refers to the use of multiple layers (ranging from three to several hundred or thousands) in the network. Methods used can be supervised, semi-supervised or unsupervised.[2]\\n\\nSome common deep learning network architectures include fully connected networks, deep belief networks, recurrent neural networks, convolutional neural networks, generative adversarial networks, transformers, and neural radiance fields. These architectures have been applied to fields including computer vision, speech recognition, natural language processing, machine translation, bioinformatics, drug design, medical image analysis, climate science, material inspection and board game programs, where they have produced results comparable to and in some cases surpassing human expert performance.[3][4][5]\\n\\nEarly forms of neural networks were inspired by information processing and distributed communication nodes in biological systems, particularly the human brain. However, current neural networks do not intend to model the brain function of organisms, and are generally seen as low-quality models for that purpose.[6]\\n\\n'"
      ]
     },
     "execution_count": 23,
     "metadata": {},
     "output_type": "execute_result"
    }
   ],
   "source": [
    "TEXT"
   ]
  },
  {
   "cell_type": "code",
   "execution_count": 24,
   "id": "d32149ee",
   "metadata": {},
   "outputs": [
    {
     "data": {
      "text/plain": [
       "'{\"1\": {\"mcq\": \"multiple choice question\", \"options\": {\"a\": \"choice here\", \"b\": \"choice here\", \"c\": \"choice here\", \"d\": \"choice here\"}, \"correct\": \"correct answer\"}, \"2\": {\"mcq\": \"multiple choice question\", \"options\": {\"a\": \"choice here\", \"b\": \"choice here\", \"c\": \"choice here\", \"d\": \"choice here\"}, \"correct\": \"correct answer\"}, \"3\": {\"mcq\": \"multiple choice question\", \"options\": {\"a\": \"choice here\", \"b\": \"choice here\", \"c\": \"choice here\", \"d\": \"choice here\"}, \"correct\": \"correct answer\"}}'"
      ]
     },
     "execution_count": 24,
     "metadata": {},
     "output_type": "execute_result"
    }
   ],
   "source": [
    "json.dumps(RESPONSE_JSON)"
   ]
  },
  {
   "cell_type": "code",
   "execution_count": 25,
   "id": "850511d8",
   "metadata": {},
   "outputs": [
    {
     "name": "stdout",
     "output_type": "stream",
     "text": [
      "\n",
      "Starting the MCQ generation and evaluation process...\n",
      "Estimated Total Tokens Used: 885\n",
      "\n",
      "Generated Quiz (Raw LLM Output) \n",
      "```json\n",
      "{\n",
      "  \"1\": {\n",
      "    \"mcq\": \"What is the defining characteristic of 'deep' learning in the context of neural networks?\",\n",
      "    \"options\": {\n",
      "      \"a\": \"Use of a single, large neuron\",\n",
      "      \"b\": \"Use of multiple layers of neurons\",\n",
      "      \"c\": \"Use of only supervised learning methods\",\n",
      "      \"d\": \"Use of only unsupervised learning methods\"\n",
      "    },\n",
      "    \"correct\": \"b\"\n",
      "  },\n",
      "  \"2\": {\n",
      "    \"mcq\": \"Which of the following is NOT mentioned as a common deep learning network architecture in the provided text?\",\n",
      "    \"options\": {\n",
      "      \"a\": \"Convolutional Neural Networks (CNNs)\",\n",
      "      \"b\": \"Recurrent Neural Networks (RNNs)\",\n",
      "      \"c\": \"Support Vector Machines (SVMs)\",\n",
      "      \"d\": \"Generative Adversarial Networks (GANs)\"\n",
      "    },\n",
      "    \"correct\": \"c\"\n",
      "  },\n",
      "  \"3\": {\n",
      "    \"mcq\": \"According to the text, how do current neural networks relate to the functioning of the human brain?\",\n",
      "    \"options\": {\n",
      "      \"a\": \"They are highly accurate models of brain function.\",\n",
      "      \"b\": \"They are inspired by biological systems but are not considered accurate models of brain function.\",\n",
      "      \"c\": \"They have no relation to biological systems.\",\n",
      "      \"d\": \"They are exact replicas of brain function.\"\n",
      "    },\n",
      "    \"correct\": \"b\"\n",
      "  }\n",
      "}\n",
      "```\n",
      "\n",
      " Quiz Review\n",
      "Complexity Analysis:\n",
      "\n",
      "The quiz is moderately complex.  Questions require comprehension of core deep learning concepts and  ability to distinguish between related architectures. Question 2's dependence on external text adds complexity.  Overall, suitable for students with foundational knowledge.\n",
      "\n",
      "\n",
      "Revised Quiz:\n",
      "\n",
      "```json\n",
      "{\n",
      "  \"1\": {\n",
      "    \"mcq\": \"What distinguishes 'deep' learning from other neural networks?\",\n",
      "    \"options\": {\n",
      "      \"a\": \"A single, large neuron\",\n",
      "      \"b\": \"Multiple neuron layers\",\n",
      "      \"c\": \"Exclusive use of supervised learning\",\n",
      "      \"d\": \"Exclusive use of unsupervised learning\"\n",
      "    },\n",
      "    \"correct\": \"b\"\n",
      "  },\n",
      "  \"2\": {\n",
      "    \"mcq\": \"Which architecture is NOT a common type of deep learning network?\",\n",
      "    \"options\": {\n",
      "      \"a\": \"Convolutional Neural Networks (CNNs)\",\n",
      "      \"b\": \"Recurrent Neural Networks (RNNs)\",\n",
      "      \"c\": \"Support Vector Machines (SVMs)\",\n",
      "      \"d\": \"Generative Adversarial Networks (GANs)\"\n",
      "    },\n",
      "    \"correct\": \"c\"\n",
      "  },\n",
      "  \"3\": {\n",
      "    \"mcq\": \"How do current neural networks compare to the human brain?\",\n",
      "    \"options\": {\n",
      "      \"a\": \"They precisely mimic brain function.\",\n",
      "      \"b\": \"They're loosely inspired by the brain but aren't precise models.\",\n",
      "      \"c\": \"They're unrelated to biological systems.\",\n",
      "      \"d\": \"They're exact copies of brain function.\"\n",
      "    },\n",
      "    \"correct\": \"b\"\n",
      "  }\n",
      "}\n",
      "```\n",
      "\n",
      "Changes:  The revised quiz uses simpler wording, avoiding phrases like \"defining characteristic\" and \"relate to.\"  Options are also slightly rephrased for clarity and conciseness. The overall tone is more direct and accessible.\n"
     ]
    }
   ],
   "source": [
    "def estimate_gemini_token_usage(prompt_inputs: dict, model_outputs: dict = None) -> int:\n",
    "    input_tokens = 0\n",
    "    for key, value in prompt_inputs.items():\n",
    "        if isinstance(value, str):\n",
    "            input_tokens += len(value.split())\n",
    "        elif isinstance(value, dict):\n",
    "            input_tokens += len(json.dumps(value).split())\n",
    "        else:\n",
    "            input_tokens += len(str(value).split())\n",
    "    output_tokens = 0\n",
    "    if model_outputs:\n",
    "        for key, value in model_outputs.items():\n",
    "            if isinstance(value, str):\n",
    "                \n",
    "                output_tokens += len(value.split())\n",
    "            elif isinstance(value, dict):\n",
    "                output_tokens += len(json.dumps(value).split())\n",
    "            else:\n",
    "                output_tokens += len(str(value).split())\n",
    "    return input_tokens + output_tokens\n",
    "if __name__ == \"__main__\":\n",
    "    inputs = {\n",
    "        \"text\": TEXT,\n",
    "        \"number\": 3,\n",
    "        \"subject\": \"Machine learning\",\n",
    "        \"tone\": \"simple\",\n",
    "        \"response_json\": json.dumps(RESPONSE_JSON)\n",
    "    }\n",
    "    try:\n",
    "        print(\"\\nStarting the MCQ generation and evaluation process...\")\n",
    "        response = connection_chain.invoke(inputs)\n",
    "        total_tokens = estimate_gemini_token_usage(inputs, response)\n",
    "        print(f\"Estimated Total Tokens Used: {total_tokens}\")\n",
    "        print(\"\\nGenerated Quiz (Raw LLM Output) \")\n",
    "        quiz_output = response.get(\"quiz\", \"No quiz generated or output is not a string.\")\n",
    "  \n",
    "        print(f\"\\nAn error occurred during chain invocation: {e}\")\n",
    "        traceback.print_exc()       \n",
    "        try:\n",
    "            parsed_quiz = json.loads(quiz_output)\n",
    "            print(json.dumps(parsed_quiz, indent=2))\n",
    "        except json.JSONDecodeError:\n",
    "            print(\"Quiz output is not valid JSON. Raw output:\")\n",
    "    except Exception as e:    \n",
    "        print(quiz_output)\n",
    "        print(\"\\n Quiz Review\")\n",
    "        print(response.get(\"review\", \"No review generated.\"))\n",
    "   \n"
   ]
  },
  {
   "cell_type": "code",
   "execution_count": 26,
   "id": "f4dc301a",
   "metadata": {},
   "outputs": [
    {
     "ename": "NameError",
     "evalue": "name 'parsed_quiz' is not defined",
     "output_type": "error",
     "traceback": [
      "\u001b[1;31m---------------------------------------------------------------------------\u001b[0m",
      "\u001b[1;31mNameError\u001b[0m                                 Traceback (most recent call last)",
      "Cell \u001b[1;32mIn[26], line 1\u001b[0m\n\u001b[1;32m----> 1\u001b[0m \u001b[38;5;28mprint\u001b[39m(json\u001b[38;5;241m.\u001b[39mdumps(\u001b[43mparsed_quiz\u001b[49m, indent\u001b[38;5;241m=\u001b[39m\u001b[38;5;241m2\u001b[39m))\n",
      "\u001b[1;31mNameError\u001b[0m: name 'parsed_quiz' is not defined"
     ]
    }
   ],
   "source": [
    "print(json.dumps(parsed_quiz, indent=2))"
   ]
  },
  {
   "cell_type": "code",
   "execution_count": null,
   "id": "512db2fa",
   "metadata": {},
   "outputs": [
    {
     "name": "stdout",
     "output_type": "stream",
     "text": [
      "Quiz data successfully processed into quiz_table_data:\n",
      "[\n",
      "  {\n",
      "    \"MCQ\": \"What is the defining characteristic of 'deep' learning in the context of neural networks?\",\n",
      "    \"Choice\": \"a:Use of a single, large neuron|b:Employing multiple layers of artificial neurons|c:Focusing solely on supervised learning methods|d:Exclusively using recurrent neural network architectures\",\n",
      "    \"Correct\": \"b\"\n",
      "  },\n",
      "  {\n",
      "    \"MCQ\": \"Which of the following is NOT mentioned as a common deep learning network architecture in the provided text?\",\n",
      "    \"Choice\": \"a:Convolutional Neural Networks (CNNs)|b:Recurrent Neural Networks (RNNs)|c:Support Vector Machines (SVMs)|d:Generative Adversarial Networks (GANs)\",\n",
      "    \"Correct\": \"c\"\n",
      "  },\n",
      "  {\n",
      "    \"MCQ\": \"According to the text, how do current neural networks relate to the biological function of the human brain?\",\n",
      "    \"Choice\": \"a:They are highly accurate models of brain function.|b:They are inspired by biological systems but are not considered high-quality models of brain function.|c:They have no relation to biological systems.|d:They perfectly replicate the complexity of the human brain.\",\n",
      "    \"Correct\": \"b\"\n",
      "  }\n",
      "]\n"
     ]
    }
   ],
   "source": [
    "import json\n",
    "import traceback\n",
    "\n",
    "quiz_table_data=[]\n",
    "quiz_output=response.get(\"quiz\")\n",
    "\n",
    "parsed_quiz=None\n",
    "if quiz_output:\n",
    "        \n",
    "        # Step 1: Clean the string by removing markdown code block markers\n",
    "        # .strip() removes leading/trailing whitespace (including newlines)\n",
    "        # .replace() removes the markdown code block markers like ```json and ```\n",
    "        clean_quiz = quiz_output.strip().replace(\"```json\", \"\").replace(\"```\", \"\")\n",
    "        \n",
    "        \n",
    "         # Step 2: Attempt to parse the cleaned string into a Python dictionary\n",
    "        # THIS IS THE CRUCIAL STEP: parsed_quiz WILL BE YOUR DICTIONARY\n",
    "        parsed_quiz=json.loads(clean_quiz)\n",
    "\n",
    "         # Step 3: ONLY proceed to iterate if parsed_quiz is successfully a dictionary\n",
    "        # Check if parsed_quiz is indeed a dictionary before iterating\n",
    "        if isinstance(parsed_quiz, dict):\n",
    "           \n",
    "            for mcq_id, mcq_details in parsed_quiz.items(): \n",
    "                mcq = mcq_details[\"mcq\"]\n",
    "                options = '|'.join(\n",
    "                    [\n",
    "                        f\"{option}:{option_value}\"\n",
    "                        for option, option_value in mcq_details['options'].items()\n",
    "                    ]\n",
    "                )\n",
    "                correct = mcq_details['correct']\n",
    "                quiz_table_data.append({\"MCQ\": mcq, \"Choice\": options, \"Correct\": correct})\n",
    "\n",
    "            print(\"Quiz data successfully processed into quiz_table_data:\")\n",
    "            print(json.dumps(quiz_table_data, indent=2)) \n",
    " \n",
    "    "
   ]
  },
  {
   "cell_type": "code",
   "execution_count": null,
   "id": "aa612234",
   "metadata": {},
   "outputs": [
    {
     "name": "stdout",
     "output_type": "stream",
     "text": [
      "[{'MCQ': \"What is the defining characteristic of 'deep' learning in the context of neural networks?\", 'Choice': 'a:Use of a single, large neuron|b:Employing multiple layers of artificial neurons|c:Focusing solely on supervised learning methods|d:Exclusively using recurrent neural network architectures', 'Correct': 'b'}, {'MCQ': 'Which of the following is NOT mentioned as a common deep learning network architecture in the provided text?', 'Choice': 'a:Convolutional Neural Networks (CNNs)|b:Recurrent Neural Networks (RNNs)|c:Support Vector Machines (SVMs)|d:Generative Adversarial Networks (GANs)', 'Correct': 'c'}, {'MCQ': 'According to the text, how do current neural networks relate to the biological function of the human brain?', 'Choice': 'a:They are highly accurate models of brain function.|b:They are inspired by biological systems but are not considered high-quality models of brain function.|c:They have no relation to biological systems.|d:They perfectly replicate the complexity of the human brain.', 'Correct': 'b'}]\n"
     ]
    }
   ],
   "source": [
    "print(quiz_table_data)"
   ]
  },
  {
   "cell_type": "code",
   "execution_count": null,
   "id": "b3b713e2",
   "metadata": {},
   "outputs": [],
   "source": [
    "import pandas as pd "
   ]
  },
  {
   "cell_type": "code",
   "execution_count": null,
   "id": "9b9cae88",
   "metadata": {},
   "outputs": [],
   "source": [
    "quiz=pd.DataFrame(quiz_table_data)"
   ]
  },
  {
   "cell_type": "code",
   "execution_count": null,
   "id": "0ae0751a",
   "metadata": {},
   "outputs": [],
   "source": [
    "quiz.to_csv(\"machinelearning.csv\",index=False)"
   ]
  },
  {
   "cell_type": "code",
   "execution_count": null,
   "id": "55782923",
   "metadata": {},
   "outputs": [
    {
     "data": {
      "text/plain": [
       "'07_12_25_18_10_27'"
      ]
     },
     "execution_count": 1,
     "metadata": {},
     "output_type": "execute_result"
    }
   ],
   "source": [
    "from datetime import datetime\n",
    "datetime.now().strftime('%m_%d_%y_%H_%M_%S')"
   ]
  },
  {
   "cell_type": "code",
   "execution_count": null,
   "id": "ff74f714",
   "metadata": {},
   "outputs": [],
   "source": []
  }
 ],
 "metadata": {
  "kernelspec": {
   "display_name": "Python 3",
   "language": "python",
   "name": "python3"
  },
  "language_info": {
   "codemirror_mode": {
    "name": "ipython",
    "version": 3
   },
   "file_extension": ".py",
   "mimetype": "text/x-python",
   "name": "python",
   "nbconvert_exporter": "python",
   "pygments_lexer": "ipython3",
   "version": "3.10.18"
  }
 },
 "nbformat": 4,
 "nbformat_minor": 5
}
